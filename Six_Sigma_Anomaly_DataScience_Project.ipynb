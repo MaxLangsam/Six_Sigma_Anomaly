{
  "nbformat": 4,
  "nbformat_minor": 0,
  "metadata": {
    "colab": {
      "provenance": []
    },
    "kernelspec": {
      "name": "python3",
      "display_name": "Python 3"
    },
    "language_info": {
      "name": "python"
    }
  },
  "cells": [
    {
      "cell_type": "markdown",
      "source": [
        "## Import Classes, Datset, and Check Dataset Structure"
      ],
      "metadata": {
        "id": "JOjMAhYdWgeQ"
      }
    },
    {
      "cell_type": "markdown",
      "source": [],
      "metadata": {
        "id": "p0sHbzPkWndi"
      }
    },
    {
      "cell_type": "code",
      "source": [
        "import os\n",
        "import pandas as pd\n",
        "from sklearn.model_selection import train_test_split\n",
        "from sklearn.impute import SimpleImputer\n",
        "from sklearn.preprocessing import StandardScaler\n",
        "from sklearn.decomposition import PCA\n",
        "from sklearn.ensemble import IsolationForest, RandomForestClassifier\n",
        "from sklearn.metrics import roc_curve, auc, precision_recall_curve, average_precision_score\n",
        "import matplotlib.pyplot as plt\n",
        "\n",
        "# --- 1. Paths (adjust if needed) ---\n",
        "data_dir    = '/content/SECOM'\n",
        "feat_file   = os.path.join(data_dir, 'secom.data')\n",
        "labels_file = os.path.join(data_dir, 'secom_labels.data')\n"
      ],
      "metadata": {
        "id": "CzeKtGv6UrnD"
      },
      "execution_count": 1,
      "outputs": []
    },
    {
      "cell_type": "markdown",
      "source": [
        "## Load Features and Parse Headings"
      ],
      "metadata": {
        "id": "yto7_mxHWrnj"
      }
    },
    {
      "cell_type": "code",
      "source": [
        "# --- 2. Load features ---\n",
        "X = pd.read_csv(feat_file, sep=r'\\s+', header=None)\n",
        "\n",
        "# --- 3. Parse labels ---\n",
        "labels = []\n",
        "with open(labels_file, 'r') as f:\n",
        "    for line in f:\n",
        "        raw = int(line.strip().split()[0])     # first token: -1 (faulty) or 1 (normal)\n",
        "        labels.append(1 if raw == -1 else 0)   # map -1→1 (fault), 1→0 (normal)\n",
        "y = pd.Series(labels, name='label')"
      ],
      "metadata": {
        "id": "34ZRgC9LWnPW"
      },
      "execution_count": 2,
      "outputs": []
    },
    {
      "cell_type": "markdown",
      "source": [
        "## Combine and Preprocess (Drop Features with %50 incomplete data)"
      ],
      "metadata": {
        "id": "IPTTvd9rXIXE"
      }
    },
    {
      "cell_type": "code",
      "source": [
        "# --- 4. Combine & preprocess ---\n",
        "# Drop columns with >50% missing:\n",
        "X = X.dropna(axis=1, thresh=len(X)*0.5)"
      ],
      "metadata": {
        "id": "h1lYosPiW4DY"
      },
      "execution_count": 3,
      "outputs": []
    },
    {
      "cell_type": "markdown",
      "source": [
        "## Impute the NaNwiht median values"
      ],
      "metadata": {
        "id": "nbwDTY5rXTa5"
      }
    },
    {
      "cell_type": "code",
      "source": [
        "# Impute remaining NaNs with median:\n",
        "imputer = SimpleImputer(strategy='median')\n",
        "X = pd.DataFrame(imputer.fit_transform(X), columns=X.columns)"
      ],
      "metadata": {
        "id": "4CdOAYcFXS4T"
      },
      "execution_count": 4,
      "outputs": []
    },
    {
      "cell_type": "markdown",
      "source": [
        "## Train-Test-Split"
      ],
      "metadata": {
        "id": "xohmVr7lXe8O"
      }
    },
    {
      "cell_type": "code",
      "source": [
        "# --- 5. Train/test split ---\n",
        "X_train, X_test, y_train, y_test = train_test_split(\n",
        "    X, y, test_size=0.2, stratify=y, random_state=42\n",
        ")"
      ],
      "metadata": {
        "id": "j4KpTc2OXcUb"
      },
      "execution_count": 5,
      "outputs": []
    },
    {
      "cell_type": "markdown",
      "source": [
        "## Incorporate PCA and StandardScalar"
      ],
      "metadata": {
        "id": "uS6siZj1Xmky"
      }
    },
    {
      "cell_type": "code",
      "source": [
        "# --- 6. Scale + PCA ---\n",
        "scaler = StandardScaler()\n",
        "X_tr_s = scaler.fit_transform(X_train)\n",
        "X_te_s = scaler.transform(X_test)\n",
        "\n",
        "pca = PCA(n_components=0.95, random_state=42)\n",
        "X_tr_p = pca.fit_transform(X_tr_s)\n",
        "X_te_p = pca.transform(X_te_s)"
      ],
      "metadata": {
        "id": "hkFzKhusXjbI"
      },
      "execution_count": 6,
      "outputs": []
    },
    {
      "cell_type": "markdown",
      "source": [
        "##Train Models for Supervised and Unsupervised Versions (Isolation Forest vs Random Forest)"
      ],
      "metadata": {
        "id": "sRv3DnndXtdS"
      }
    },
    {
      "cell_type": "code",
      "source": [
        "# --- 7. Train models ---\n",
        "\n",
        "# Compute anomaly fraction and clamp to ≤50%\n",
        "contamination_rate = y_train.mean()\n",
        "contamination_rate = min(max(contamination_rate, 0.0), 0.5)\n",
        "\n",
        "# Unsupervised anomaly detector on NORMAL data only\n",
        "if_model = IsolationForest(\n",
        "    contamination=contamination_rate,\n",
        "    random_state=42\n",
        ")\n",
        "if_model.fit(X_tr_s[y_train == 0])\n",
        "\n",
        "# Supervised classifier\n",
        "rf = RandomForestClassifier(random_state=42)\n",
        "rf.fit(X_tr_p, y_train)\n",
        "\n"
      ],
      "metadata": {
        "colab": {
          "base_uri": "https://localhost:8080/",
          "height": 80
        },
        "id": "GB7iBBBAXz8Y",
        "outputId": "39014be2-9fe7-479c-9896-90d3bd4dacfb"
      },
      "execution_count": 7,
      "outputs": [
        {
          "output_type": "execute_result",
          "data": {
            "text/plain": [
              "RandomForestClassifier(random_state=42)"
            ],
            "text/html": [
              "<style>#sk-container-id-1 {\n",
              "  /* Definition of color scheme common for light and dark mode */\n",
              "  --sklearn-color-text: #000;\n",
              "  --sklearn-color-text-muted: #666;\n",
              "  --sklearn-color-line: gray;\n",
              "  /* Definition of color scheme for unfitted estimators */\n",
              "  --sklearn-color-unfitted-level-0: #fff5e6;\n",
              "  --sklearn-color-unfitted-level-1: #f6e4d2;\n",
              "  --sklearn-color-unfitted-level-2: #ffe0b3;\n",
              "  --sklearn-color-unfitted-level-3: chocolate;\n",
              "  /* Definition of color scheme for fitted estimators */\n",
              "  --sklearn-color-fitted-level-0: #f0f8ff;\n",
              "  --sklearn-color-fitted-level-1: #d4ebff;\n",
              "  --sklearn-color-fitted-level-2: #b3dbfd;\n",
              "  --sklearn-color-fitted-level-3: cornflowerblue;\n",
              "\n",
              "  /* Specific color for light theme */\n",
              "  --sklearn-color-text-on-default-background: var(--sg-text-color, var(--theme-code-foreground, var(--jp-content-font-color1, black)));\n",
              "  --sklearn-color-background: var(--sg-background-color, var(--theme-background, var(--jp-layout-color0, white)));\n",
              "  --sklearn-color-border-box: var(--sg-text-color, var(--theme-code-foreground, var(--jp-content-font-color1, black)));\n",
              "  --sklearn-color-icon: #696969;\n",
              "\n",
              "  @media (prefers-color-scheme: dark) {\n",
              "    /* Redefinition of color scheme for dark theme */\n",
              "    --sklearn-color-text-on-default-background: var(--sg-text-color, var(--theme-code-foreground, var(--jp-content-font-color1, white)));\n",
              "    --sklearn-color-background: var(--sg-background-color, var(--theme-background, var(--jp-layout-color0, #111)));\n",
              "    --sklearn-color-border-box: var(--sg-text-color, var(--theme-code-foreground, var(--jp-content-font-color1, white)));\n",
              "    --sklearn-color-icon: #878787;\n",
              "  }\n",
              "}\n",
              "\n",
              "#sk-container-id-1 {\n",
              "  color: var(--sklearn-color-text);\n",
              "}\n",
              "\n",
              "#sk-container-id-1 pre {\n",
              "  padding: 0;\n",
              "}\n",
              "\n",
              "#sk-container-id-1 input.sk-hidden--visually {\n",
              "  border: 0;\n",
              "  clip: rect(1px 1px 1px 1px);\n",
              "  clip: rect(1px, 1px, 1px, 1px);\n",
              "  height: 1px;\n",
              "  margin: -1px;\n",
              "  overflow: hidden;\n",
              "  padding: 0;\n",
              "  position: absolute;\n",
              "  width: 1px;\n",
              "}\n",
              "\n",
              "#sk-container-id-1 div.sk-dashed-wrapped {\n",
              "  border: 1px dashed var(--sklearn-color-line);\n",
              "  margin: 0 0.4em 0.5em 0.4em;\n",
              "  box-sizing: border-box;\n",
              "  padding-bottom: 0.4em;\n",
              "  background-color: var(--sklearn-color-background);\n",
              "}\n",
              "\n",
              "#sk-container-id-1 div.sk-container {\n",
              "  /* jupyter's `normalize.less` sets `[hidden] { display: none; }`\n",
              "     but bootstrap.min.css set `[hidden] { display: none !important; }`\n",
              "     so we also need the `!important` here to be able to override the\n",
              "     default hidden behavior on the sphinx rendered scikit-learn.org.\n",
              "     See: https://github.com/scikit-learn/scikit-learn/issues/21755 */\n",
              "  display: inline-block !important;\n",
              "  position: relative;\n",
              "}\n",
              "\n",
              "#sk-container-id-1 div.sk-text-repr-fallback {\n",
              "  display: none;\n",
              "}\n",
              "\n",
              "div.sk-parallel-item,\n",
              "div.sk-serial,\n",
              "div.sk-item {\n",
              "  /* draw centered vertical line to link estimators */\n",
              "  background-image: linear-gradient(var(--sklearn-color-text-on-default-background), var(--sklearn-color-text-on-default-background));\n",
              "  background-size: 2px 100%;\n",
              "  background-repeat: no-repeat;\n",
              "  background-position: center center;\n",
              "}\n",
              "\n",
              "/* Parallel-specific style estimator block */\n",
              "\n",
              "#sk-container-id-1 div.sk-parallel-item::after {\n",
              "  content: \"\";\n",
              "  width: 100%;\n",
              "  border-bottom: 2px solid var(--sklearn-color-text-on-default-background);\n",
              "  flex-grow: 1;\n",
              "}\n",
              "\n",
              "#sk-container-id-1 div.sk-parallel {\n",
              "  display: flex;\n",
              "  align-items: stretch;\n",
              "  justify-content: center;\n",
              "  background-color: var(--sklearn-color-background);\n",
              "  position: relative;\n",
              "}\n",
              "\n",
              "#sk-container-id-1 div.sk-parallel-item {\n",
              "  display: flex;\n",
              "  flex-direction: column;\n",
              "}\n",
              "\n",
              "#sk-container-id-1 div.sk-parallel-item:first-child::after {\n",
              "  align-self: flex-end;\n",
              "  width: 50%;\n",
              "}\n",
              "\n",
              "#sk-container-id-1 div.sk-parallel-item:last-child::after {\n",
              "  align-self: flex-start;\n",
              "  width: 50%;\n",
              "}\n",
              "\n",
              "#sk-container-id-1 div.sk-parallel-item:only-child::after {\n",
              "  width: 0;\n",
              "}\n",
              "\n",
              "/* Serial-specific style estimator block */\n",
              "\n",
              "#sk-container-id-1 div.sk-serial {\n",
              "  display: flex;\n",
              "  flex-direction: column;\n",
              "  align-items: center;\n",
              "  background-color: var(--sklearn-color-background);\n",
              "  padding-right: 1em;\n",
              "  padding-left: 1em;\n",
              "}\n",
              "\n",
              "\n",
              "/* Toggleable style: style used for estimator/Pipeline/ColumnTransformer box that is\n",
              "clickable and can be expanded/collapsed.\n",
              "- Pipeline and ColumnTransformer use this feature and define the default style\n",
              "- Estimators will overwrite some part of the style using the `sk-estimator` class\n",
              "*/\n",
              "\n",
              "/* Pipeline and ColumnTransformer style (default) */\n",
              "\n",
              "#sk-container-id-1 div.sk-toggleable {\n",
              "  /* Default theme specific background. It is overwritten whether we have a\n",
              "  specific estimator or a Pipeline/ColumnTransformer */\n",
              "  background-color: var(--sklearn-color-background);\n",
              "}\n",
              "\n",
              "/* Toggleable label */\n",
              "#sk-container-id-1 label.sk-toggleable__label {\n",
              "  cursor: pointer;\n",
              "  display: flex;\n",
              "  width: 100%;\n",
              "  margin-bottom: 0;\n",
              "  padding: 0.5em;\n",
              "  box-sizing: border-box;\n",
              "  text-align: center;\n",
              "  align-items: start;\n",
              "  justify-content: space-between;\n",
              "  gap: 0.5em;\n",
              "}\n",
              "\n",
              "#sk-container-id-1 label.sk-toggleable__label .caption {\n",
              "  font-size: 0.6rem;\n",
              "  font-weight: lighter;\n",
              "  color: var(--sklearn-color-text-muted);\n",
              "}\n",
              "\n",
              "#sk-container-id-1 label.sk-toggleable__label-arrow:before {\n",
              "  /* Arrow on the left of the label */\n",
              "  content: \"▸\";\n",
              "  float: left;\n",
              "  margin-right: 0.25em;\n",
              "  color: var(--sklearn-color-icon);\n",
              "}\n",
              "\n",
              "#sk-container-id-1 label.sk-toggleable__label-arrow:hover:before {\n",
              "  color: var(--sklearn-color-text);\n",
              "}\n",
              "\n",
              "/* Toggleable content - dropdown */\n",
              "\n",
              "#sk-container-id-1 div.sk-toggleable__content {\n",
              "  max-height: 0;\n",
              "  max-width: 0;\n",
              "  overflow: hidden;\n",
              "  text-align: left;\n",
              "  /* unfitted */\n",
              "  background-color: var(--sklearn-color-unfitted-level-0);\n",
              "}\n",
              "\n",
              "#sk-container-id-1 div.sk-toggleable__content.fitted {\n",
              "  /* fitted */\n",
              "  background-color: var(--sklearn-color-fitted-level-0);\n",
              "}\n",
              "\n",
              "#sk-container-id-1 div.sk-toggleable__content pre {\n",
              "  margin: 0.2em;\n",
              "  border-radius: 0.25em;\n",
              "  color: var(--sklearn-color-text);\n",
              "  /* unfitted */\n",
              "  background-color: var(--sklearn-color-unfitted-level-0);\n",
              "}\n",
              "\n",
              "#sk-container-id-1 div.sk-toggleable__content.fitted pre {\n",
              "  /* unfitted */\n",
              "  background-color: var(--sklearn-color-fitted-level-0);\n",
              "}\n",
              "\n",
              "#sk-container-id-1 input.sk-toggleable__control:checked~div.sk-toggleable__content {\n",
              "  /* Expand drop-down */\n",
              "  max-height: 200px;\n",
              "  max-width: 100%;\n",
              "  overflow: auto;\n",
              "}\n",
              "\n",
              "#sk-container-id-1 input.sk-toggleable__control:checked~label.sk-toggleable__label-arrow:before {\n",
              "  content: \"▾\";\n",
              "}\n",
              "\n",
              "/* Pipeline/ColumnTransformer-specific style */\n",
              "\n",
              "#sk-container-id-1 div.sk-label input.sk-toggleable__control:checked~label.sk-toggleable__label {\n",
              "  color: var(--sklearn-color-text);\n",
              "  background-color: var(--sklearn-color-unfitted-level-2);\n",
              "}\n",
              "\n",
              "#sk-container-id-1 div.sk-label.fitted input.sk-toggleable__control:checked~label.sk-toggleable__label {\n",
              "  background-color: var(--sklearn-color-fitted-level-2);\n",
              "}\n",
              "\n",
              "/* Estimator-specific style */\n",
              "\n",
              "/* Colorize estimator box */\n",
              "#sk-container-id-1 div.sk-estimator input.sk-toggleable__control:checked~label.sk-toggleable__label {\n",
              "  /* unfitted */\n",
              "  background-color: var(--sklearn-color-unfitted-level-2);\n",
              "}\n",
              "\n",
              "#sk-container-id-1 div.sk-estimator.fitted input.sk-toggleable__control:checked~label.sk-toggleable__label {\n",
              "  /* fitted */\n",
              "  background-color: var(--sklearn-color-fitted-level-2);\n",
              "}\n",
              "\n",
              "#sk-container-id-1 div.sk-label label.sk-toggleable__label,\n",
              "#sk-container-id-1 div.sk-label label {\n",
              "  /* The background is the default theme color */\n",
              "  color: var(--sklearn-color-text-on-default-background);\n",
              "}\n",
              "\n",
              "/* On hover, darken the color of the background */\n",
              "#sk-container-id-1 div.sk-label:hover label.sk-toggleable__label {\n",
              "  color: var(--sklearn-color-text);\n",
              "  background-color: var(--sklearn-color-unfitted-level-2);\n",
              "}\n",
              "\n",
              "/* Label box, darken color on hover, fitted */\n",
              "#sk-container-id-1 div.sk-label.fitted:hover label.sk-toggleable__label.fitted {\n",
              "  color: var(--sklearn-color-text);\n",
              "  background-color: var(--sklearn-color-fitted-level-2);\n",
              "}\n",
              "\n",
              "/* Estimator label */\n",
              "\n",
              "#sk-container-id-1 div.sk-label label {\n",
              "  font-family: monospace;\n",
              "  font-weight: bold;\n",
              "  display: inline-block;\n",
              "  line-height: 1.2em;\n",
              "}\n",
              "\n",
              "#sk-container-id-1 div.sk-label-container {\n",
              "  text-align: center;\n",
              "}\n",
              "\n",
              "/* Estimator-specific */\n",
              "#sk-container-id-1 div.sk-estimator {\n",
              "  font-family: monospace;\n",
              "  border: 1px dotted var(--sklearn-color-border-box);\n",
              "  border-radius: 0.25em;\n",
              "  box-sizing: border-box;\n",
              "  margin-bottom: 0.5em;\n",
              "  /* unfitted */\n",
              "  background-color: var(--sklearn-color-unfitted-level-0);\n",
              "}\n",
              "\n",
              "#sk-container-id-1 div.sk-estimator.fitted {\n",
              "  /* fitted */\n",
              "  background-color: var(--sklearn-color-fitted-level-0);\n",
              "}\n",
              "\n",
              "/* on hover */\n",
              "#sk-container-id-1 div.sk-estimator:hover {\n",
              "  /* unfitted */\n",
              "  background-color: var(--sklearn-color-unfitted-level-2);\n",
              "}\n",
              "\n",
              "#sk-container-id-1 div.sk-estimator.fitted:hover {\n",
              "  /* fitted */\n",
              "  background-color: var(--sklearn-color-fitted-level-2);\n",
              "}\n",
              "\n",
              "/* Specification for estimator info (e.g. \"i\" and \"?\") */\n",
              "\n",
              "/* Common style for \"i\" and \"?\" */\n",
              "\n",
              ".sk-estimator-doc-link,\n",
              "a:link.sk-estimator-doc-link,\n",
              "a:visited.sk-estimator-doc-link {\n",
              "  float: right;\n",
              "  font-size: smaller;\n",
              "  line-height: 1em;\n",
              "  font-family: monospace;\n",
              "  background-color: var(--sklearn-color-background);\n",
              "  border-radius: 1em;\n",
              "  height: 1em;\n",
              "  width: 1em;\n",
              "  text-decoration: none !important;\n",
              "  margin-left: 0.5em;\n",
              "  text-align: center;\n",
              "  /* unfitted */\n",
              "  border: var(--sklearn-color-unfitted-level-1) 1pt solid;\n",
              "  color: var(--sklearn-color-unfitted-level-1);\n",
              "}\n",
              "\n",
              ".sk-estimator-doc-link.fitted,\n",
              "a:link.sk-estimator-doc-link.fitted,\n",
              "a:visited.sk-estimator-doc-link.fitted {\n",
              "  /* fitted */\n",
              "  border: var(--sklearn-color-fitted-level-1) 1pt solid;\n",
              "  color: var(--sklearn-color-fitted-level-1);\n",
              "}\n",
              "\n",
              "/* On hover */\n",
              "div.sk-estimator:hover .sk-estimator-doc-link:hover,\n",
              ".sk-estimator-doc-link:hover,\n",
              "div.sk-label-container:hover .sk-estimator-doc-link:hover,\n",
              ".sk-estimator-doc-link:hover {\n",
              "  /* unfitted */\n",
              "  background-color: var(--sklearn-color-unfitted-level-3);\n",
              "  color: var(--sklearn-color-background);\n",
              "  text-decoration: none;\n",
              "}\n",
              "\n",
              "div.sk-estimator.fitted:hover .sk-estimator-doc-link.fitted:hover,\n",
              ".sk-estimator-doc-link.fitted:hover,\n",
              "div.sk-label-container:hover .sk-estimator-doc-link.fitted:hover,\n",
              ".sk-estimator-doc-link.fitted:hover {\n",
              "  /* fitted */\n",
              "  background-color: var(--sklearn-color-fitted-level-3);\n",
              "  color: var(--sklearn-color-background);\n",
              "  text-decoration: none;\n",
              "}\n",
              "\n",
              "/* Span, style for the box shown on hovering the info icon */\n",
              ".sk-estimator-doc-link span {\n",
              "  display: none;\n",
              "  z-index: 9999;\n",
              "  position: relative;\n",
              "  font-weight: normal;\n",
              "  right: .2ex;\n",
              "  padding: .5ex;\n",
              "  margin: .5ex;\n",
              "  width: min-content;\n",
              "  min-width: 20ex;\n",
              "  max-width: 50ex;\n",
              "  color: var(--sklearn-color-text);\n",
              "  box-shadow: 2pt 2pt 4pt #999;\n",
              "  /* unfitted */\n",
              "  background: var(--sklearn-color-unfitted-level-0);\n",
              "  border: .5pt solid var(--sklearn-color-unfitted-level-3);\n",
              "}\n",
              "\n",
              ".sk-estimator-doc-link.fitted span {\n",
              "  /* fitted */\n",
              "  background: var(--sklearn-color-fitted-level-0);\n",
              "  border: var(--sklearn-color-fitted-level-3);\n",
              "}\n",
              "\n",
              ".sk-estimator-doc-link:hover span {\n",
              "  display: block;\n",
              "}\n",
              "\n",
              "/* \"?\"-specific style due to the `<a>` HTML tag */\n",
              "\n",
              "#sk-container-id-1 a.estimator_doc_link {\n",
              "  float: right;\n",
              "  font-size: 1rem;\n",
              "  line-height: 1em;\n",
              "  font-family: monospace;\n",
              "  background-color: var(--sklearn-color-background);\n",
              "  border-radius: 1rem;\n",
              "  height: 1rem;\n",
              "  width: 1rem;\n",
              "  text-decoration: none;\n",
              "  /* unfitted */\n",
              "  color: var(--sklearn-color-unfitted-level-1);\n",
              "  border: var(--sklearn-color-unfitted-level-1) 1pt solid;\n",
              "}\n",
              "\n",
              "#sk-container-id-1 a.estimator_doc_link.fitted {\n",
              "  /* fitted */\n",
              "  border: var(--sklearn-color-fitted-level-1) 1pt solid;\n",
              "  color: var(--sklearn-color-fitted-level-1);\n",
              "}\n",
              "\n",
              "/* On hover */\n",
              "#sk-container-id-1 a.estimator_doc_link:hover {\n",
              "  /* unfitted */\n",
              "  background-color: var(--sklearn-color-unfitted-level-3);\n",
              "  color: var(--sklearn-color-background);\n",
              "  text-decoration: none;\n",
              "}\n",
              "\n",
              "#sk-container-id-1 a.estimator_doc_link.fitted:hover {\n",
              "  /* fitted */\n",
              "  background-color: var(--sklearn-color-fitted-level-3);\n",
              "}\n",
              "</style><div id=\"sk-container-id-1\" class=\"sk-top-container\"><div class=\"sk-text-repr-fallback\"><pre>RandomForestClassifier(random_state=42)</pre><b>In a Jupyter environment, please rerun this cell to show the HTML representation or trust the notebook. <br />On GitHub, the HTML representation is unable to render, please try loading this page with nbviewer.org.</b></div><div class=\"sk-container\" hidden><div class=\"sk-item\"><div class=\"sk-estimator fitted sk-toggleable\"><input class=\"sk-toggleable__control sk-hidden--visually\" id=\"sk-estimator-id-1\" type=\"checkbox\" checked><label for=\"sk-estimator-id-1\" class=\"sk-toggleable__label fitted sk-toggleable__label-arrow\"><div><div>RandomForestClassifier</div></div><div><a class=\"sk-estimator-doc-link fitted\" rel=\"noreferrer\" target=\"_blank\" href=\"https://scikit-learn.org/1.6/modules/generated/sklearn.ensemble.RandomForestClassifier.html\">?<span>Documentation for RandomForestClassifier</span></a><span class=\"sk-estimator-doc-link fitted\">i<span>Fitted</span></span></div></label><div class=\"sk-toggleable__content fitted\"><pre>RandomForestClassifier(random_state=42)</pre></div> </div></div></div></div>"
            ]
          },
          "metadata": {},
          "execution_count": 7
        }
      ]
    },
    {
      "cell_type": "markdown",
      "source": [
        "## Score accuracy of models"
      ],
      "metadata": {
        "id": "STt2dfJNX1IA"
      }
    },
    {
      "cell_type": "code",
      "source": [
        "# --- 8. Score & evaluate ---\n",
        "scores_if = -if_model.decision_function(X_te_s)\n",
        "scores_rf = rf.predict_proba(X_te_p)[:, 1]\n",
        "\n",
        "results = []\n",
        "for name, scores in [('IsolationForest', scores_if), ('RandomForest', scores_rf)]:\n",
        "    fpr, tpr, _ = roc_curve(y_test, scores)\n",
        "    prec, rec, _ = precision_recall_curve(y_test, scores)\n",
        "    results.append({\n",
        "        'Model': name,\n",
        "        'ROC AUC': auc(fpr, tpr),\n",
        "        'Avg Precision': average_precision_score(y_test, scores)\n",
        "    })\n",
        "\n",
        "metrics_df = pd.DataFrame(results)\n",
        "print(metrics_df)"
      ],
      "metadata": {
        "colab": {
          "base_uri": "https://localhost:8080/"
        },
        "id": "i20PPh_IX01V",
        "outputId": "c5b87507-7c96-4c65-a195-40714ba5e111"
      },
      "execution_count": 8,
      "outputs": [
        {
          "output_type": "stream",
          "name": "stdout",
          "text": [
            "             Model   ROC AUC  Avg Precision\n",
            "0  IsolationForest  0.567691       0.944866\n",
            "1     RandomForest  0.606371       0.949164\n"
          ]
        }
      ]
    },
    {
      "cell_type": "markdown",
      "source": [
        "## Plot ROC curves"
      ],
      "metadata": {
        "id": "wInleqVsX95x"
      }
    },
    {
      "cell_type": "code",
      "source": [
        "# --- 9. Plot ROC curves ---\n",
        "plt.figure()\n",
        "for name, scores in [('IsolationForest', scores_if), ('RandomForest', scores_rf)]:\n",
        "    fpr, tpr, _ = roc_curve(y_test, scores)\n",
        "    plt.plot(fpr, tpr, label=f'{name} (AUC={auc(fpr,tpr):.2f})')\n",
        "plt.plot([0,1],[0,1],'--')\n",
        "plt.xlabel('False Positive Rate')\n",
        "plt.ylabel('True Positive Rate')\n",
        "plt.title('ROC Curves')\n",
        "plt.legend()\n",
        "plt.show()"
      ],
      "metadata": {
        "colab": {
          "base_uri": "https://localhost:8080/",
          "height": 472
        },
        "id": "VV2Er9-KX7ms",
        "outputId": "032fa774-c14a-4037-bd06-356587c1a9b5"
      },
      "execution_count": 9,
      "outputs": [
        {
          "output_type": "display_data",
          "data": {
            "text/plain": [
              "<Figure size 640x480 with 1 Axes>"
            ],
            "image/png": "[encoded data removed]"
          },
          "metadata": {}
        }
      ]
    },
    {
      "cell_type": "markdown",
      "source": [
        "## Plot Precision and Recall Curves"
      ],
      "metadata": {
        "id": "6MOxqAM3YI8S"
      }
    },
    {
      "cell_type": "code",
      "source": [
        "# --- 10. Plot Precision–Recall curves ---\n",
        "plt.figure()\n",
        "for name, scores in [('IsolationForest', scores_if), ('RandomForest', scores_rf)]:\n",
        "    prec, rec, _ = precision_recall_curve(y_test, scores)\n",
        "    plt.plot(rec, prec, label=f'{name} (AP={average_precision_score(y_test, scores):.2f})')\n",
        "plt.xlabel('Recall')\n",
        "plt.ylabel('Precision')\n",
        "plt.title('Precision–Recall Curves')\n",
        "plt.legend()\n",
        "plt.show()"
      ],
      "metadata": {
        "colab": {
          "base_uri": "https://localhost:8080/",
          "height": 472
        },
        "id": "s2_iioiQYM6P",
        "outputId": "08161e60-889b-4e64-ab28-ca85d387c5bd"
      },
      "execution_count": 10,
      "outputs": [
        {
          "output_type": "display_data",
          "data": {
            "text/plain": [
              "<Figure size 640x480 with 1 Axes>"
            ],
            "image/png": "[encoded data removed]"
          },
          "metadata": {}
        }
      ]
    },
    {
      "cell_type": "markdown",
      "source": [
        "## Potential Conclusions from Plots\n",
        "\n",
        "1. ROC Curves (True Positive Rate vs False Positive Rate)\n",
        "\n",
        "AUC (Area Under Curve):\n",
        "\n",
        "IsolationForest: 0.57\n",
        "\n",
        "RandomForest: 0.61\n",
        "\n",
        "Interpretation:\n",
        "\n",
        "An AUC of 0.5 is random-guessing; 1.0 is perfect separation.\n",
        "\n",
        "Both models are only moderately better than random, with RandomForest a bit stronger than the unsupervised IsolationForest.\n",
        "\n",
        "The relatively low AUCs suggest that features alone provide limited separation between “normal” and “faulty” classes in this PCA-reduced space.\n",
        "\n",
        "2. Precision–Recall Curves (Precision vs Recall)\n",
        "\n",
        "Average Precision (AP):\n",
        "\n",
        "IsolationForest: 0.94\n",
        "\n",
        "RandomForest: 0.95\n",
        "\n",
        "Why PR over ROC for anomalies?\n",
        "\n",
        "When the “fault” class is rare (imbalanced), precision–recall curves give a clearer picture of how many detected faults are true faults (precision) at each detection rate (recall).\n",
        "\n",
        "Interpretation:\n",
        "\n",
        "Both models maintain very high precision (>90%) even as you push recall up, meaning most alerts they raise are genuine faults.\n",
        "\n",
        "RandomForest edges out IsolationForest slightly across most recall levels.\n",
        "\n",
        "Key Takeaways\n",
        "Supervised beats unsupervised: RandomForest (AUC=0.61, AP=0.95) outperforms IsolationForest (AUC=0.57, AP=0.94).\n",
        "\n",
        "Good precision, limited discrimination: Even though you get very few false alarms (high precision), both models struggle to cleanly separate classes in ROC space—likely because the features overlap heavily.\n",
        "\n",
        "Focus on precision–recall: For anomaly detection, you care more about “of the alarms I raise, how many are real?” (precision) and “how many actual faults did I catch?” (recall). Your models do well here."
      ],
      "metadata": {
        "id": "ttayvsXQY7Tx"
      }
    },
    {
      "cell_type": "markdown",
      "source": [
        "## Time Feature Engineer wiht Lag and Roll Base"
      ],
      "metadata": {
        "id": "zRFGFaTSZP8Y"
      }
    },
    {
      "cell_type": "code",
      "source": [
        "# --- FEATURE ENGINEERING: Lag & Rolling Aggregates ---\n",
        "\n",
        "# X is your imputed DataFrame (shape: [n_samples, n_features])\n",
        "\n",
        "# 1) 1-step lag\n",
        "X_lag1 = X.shift(1).add_suffix('_lag1')\n",
        "\n",
        "# 2) 5-step rolling mean\n",
        "X_roll5 = X.rolling(window=5, min_periods=1).mean().add_suffix('_roll5')\n",
        "\n",
        "# 3) Concatenate and fill NaNs\n",
        "X_fe = pd.concat([X, X_lag1, X_roll5], axis=1).fillna(0)\n",
        "\n",
        "# Now X_fe has 3× the original features (original + lag + rolling)\n",
        "\n",
        "# Proceed with:\n",
        "#   scaler.fit_transform(X_fe) → PCA → model training\n"
      ],
      "metadata": {
        "id": "tEXihNuLY_XZ"
      },
      "execution_count": 11,
      "outputs": []
    },
    {
      "cell_type": "markdown",
      "source": [
        "## Hyperparameter Tunning & Halving Search to speed up Fine-Tuning structure\n",
        "\n"
      ],
      "metadata": {
        "id": "rRiuLGeCY_4a"
      }
    },
    {
      "cell_type": "code",
      "source": [
        "from sklearn.experimental import enable_halving_search_cv  # noqa\n",
        "from sklearn.model_selection import HalvingGridSearchCV\n",
        "from sklearn.ensemble import RandomForestClassifier\n",
        "\n",
        "# Only tune tree‐structure params here\n",
        "param_grid = {\n",
        "    'max_depth': [None, 10, 20],\n",
        "    'min_samples_split': [2, 5, 10],\n",
        "}\n",
        "\n",
        "halving_rf = HalvingGridSearchCV(\n",
        "    estimator=RandomForestClassifier(random_state=42, n_jobs=-1),\n",
        "    param_grid=param_grid,\n",
        "    resource='n_estimators',   # ▶ now OK, since 'n_estimators' is NOT in param_grid\n",
        "    max_resources=500,         # ▶ up to 500 trees\n",
        "    factor=3,\n",
        "    cv=3,\n",
        "    scoring='average_precision',\n",
        "    verbose=2,\n",
        "    n_jobs=-1\n",
        ")\n",
        "\n",
        "# Fit on your PCA‐reduced training data\n",
        "halving_rf.fit(X_tr_p, y_train)\n",
        "\n",
        "print(\"Best params:\", halving_rf.best_params_)\n",
        "print(\"Best AP:\", halving_rf.best_score_)\n"
      ],
      "metadata": {
        "colab": {
          "base_uri": "https://localhost:8080/"
        },
        "id": "370i1OHAanQJ",
        "outputId": "51969572-af4a-48c0-d0a2-e6484e095ec7"
      },
      "execution_count": 12,
      "outputs": [
        {
          "output_type": "stream",
          "name": "stdout",
          "text": [
            "n_iterations: 3\n",
            "n_required_iterations: 3\n",
            "n_possible_iterations: 3\n",
            "min_resources_: 55\n",
            "max_resources_: 500\n",
            "aggressive_elimination: False\n",
            "factor: 3\n",
            "----------\n",
            "iter: 0\n",
            "n_candidates: 9\n",
            "n_resources: 55\n",
            "Fitting 3 folds for each of 9 candidates, totalling 27 fits\n",
            "----------\n",
            "iter: 1\n",
            "n_candidates: 3\n",
            "n_resources: 165\n",
            "Fitting 3 folds for each of 3 candidates, totalling 9 fits\n",
            "----------\n",
            "iter: 2\n",
            "n_candidates: 1\n",
            "n_resources: 495\n",
            "Fitting 3 folds for each of 1 candidates, totalling 3 fits\n",
            "Best params: {'max_depth': 20, 'min_samples_split': 10, 'n_estimators': 495}\n",
            "Best AP: 0.9552864844190195\n"
          ]
        }
      ]
    },
    {
      "cell_type": "markdown",
      "source": [
        "## One-Class Support Vector Machine"
      ],
      "metadata": {
        "id": "CdM8h3z7arzH"
      }
    },
    {
      "cell_type": "code",
      "source": [
        "from sklearn.svm import OneClassSVM\n",
        "from sklearn.metrics import average_precision_score\n",
        "\n",
        "ocsvm = OneClassSVM(kernel='rbf', gamma='auto', nu=0.05)\n",
        "ocsvm.fit(X_tr_s[y_train == 0])\n",
        "scores_ocsvm = -ocsvm.decision_function(X_te_s)\n",
        "print(\"One-Class SVM AP:\", average_precision_score(y_test, scores_ocsvm))\n"
      ],
      "metadata": {
        "colab": {
          "base_uri": "https://localhost:8080/"
        },
        "id": "pVW6b5XaapPh",
        "outputId": "22deec6d-ec62-47c6-edf7-f44daba2c9dc"
      },
      "execution_count": 13,
      "outputs": [
        {
          "output_type": "stream",
          "name": "stdout",
          "text": [
            "One-Class SVM AP: 0.9233814158145607\n"
          ]
        }
      ]
    },
    {
      "cell_type": "markdown",
      "source": [
        "## AutoEncoder with TF/Keras"
      ],
      "metadata": {
        "id": "69BKEylra0_S"
      }
    },
    {
      "cell_type": "code",
      "source": [
        "import numpy as np\n",
        "from tensorflow.keras import layers, models\n",
        "from sklearn.metrics import average_precision_score\n",
        "\n",
        "# Build autoencoder\n",
        "input_dim = X_tr_s.shape[1]\n",
        "encoding_dim = 32\n",
        "input_layer = layers.Input((input_dim,))\n",
        "encoded     = layers.Dense(encoding_dim, activation='relu')(input_layer)\n",
        "decoded     = layers.Dense(input_dim, activation='linear')(encoded)\n",
        "autoencoder = models.Model(input_layer, decoded)\n",
        "autoencoder.compile(optimizer='adam', loss='mse')\n",
        "\n",
        "# Train on normal data only\n",
        "autoencoder.fit(\n",
        "    X_tr_s[y_train == 0],\n",
        "    X_tr_s[y_train == 0],\n",
        "    epochs=50, batch_size=32,\n",
        "    validation_split=0.1, verbose=1\n",
        ")\n",
        "\n",
        "# Compute reconstruction errors\n",
        "recon = autoencoder.predict(X_te_s)\n",
        "mse   = np.mean((X_te_s - recon)**2, axis=1)\n",
        "print(\"Autoencoder AP:\", average_precision_score(y_test, mse))\n"
      ],
      "metadata": {
        "colab": {
          "base_uri": "https://localhost:8080/"
        },
        "id": "h3r6YsEoa3dm",
        "outputId": "e13574c6-317c-48ad-c501-b6b65477241e"
      },
      "execution_count": 14,
      "outputs": [
        {
          "output_type": "stream",
          "name": "stdout",
          "text": [
            "Epoch 1/50\n",
            "\u001b[1m3/3\u001b[0m \u001b[32m━━━━━━━━━━━━━━━━━━━━\u001b[0m\u001b[37m\u001b[0m \u001b[1m2s\u001b[0m 178ms/step - loss: 0.8886 - val_loss: 2.8230\n",
            "Epoch 2/50\n",
            "\u001b[1m3/3\u001b[0m \u001b[32m━━━━━━━━━━━━━━━━━━━━\u001b[0m\u001b[37m\u001b[0m \u001b[1m0s\u001b[0m 66ms/step - loss: 0.8727 - val_loss: 2.7775\n",
            "Epoch 3/50\n",
            "\u001b[1m3/3\u001b[0m \u001b[32m━━━━━━━━━━━━━━━━━━━━\u001b[0m\u001b[37m\u001b[0m \u001b[1m0s\u001b[0m 36ms/step - loss: 0.8087 - val_loss: 2.7443\n",
            "Epoch 4/50\n",
            "\u001b[1m3/3\u001b[0m \u001b[32m━━━━━━━━━━━━━━━━━━━━\u001b[0m\u001b[37m\u001b[0m \u001b[1m0s\u001b[0m 34ms/step - loss: 0.7672 - val_loss: 2.7182\n",
            "Epoch 5/50\n",
            "\u001b[1m3/3\u001b[0m \u001b[32m━━━━━━━━━━━━━━━━━━━━\u001b[0m\u001b[37m\u001b[0m \u001b[1m0s\u001b[0m 36ms/step - loss: 0.8058 - val_loss: 2.6923\n",
            "Epoch 6/50\n",
            "\u001b[1m3/3\u001b[0m \u001b[32m━━━━━━━━━━━━━━━━━━━━\u001b[0m\u001b[37m\u001b[0m \u001b[1m0s\u001b[0m 39ms/step - loss: 0.7508 - val_loss: 2.6727\n",
            "Epoch 7/50\n",
            "\u001b[1m3/3\u001b[0m \u001b[32m━━━━━━━━━━━━━━━━━━━━\u001b[0m\u001b[37m\u001b[0m \u001b[1m0s\u001b[0m 37ms/step - loss: 0.7479 - val_loss: 2.6566\n",
            "Epoch 8/50\n",
            "\u001b[1m3/3\u001b[0m \u001b[32m━━━━━━━━━━━━━━━━━━━━\u001b[0m\u001b[37m\u001b[0m \u001b[1m0s\u001b[0m 33ms/step - loss: 0.7655 - val_loss: 2.6428\n",
            "Epoch 9/50\n",
            "\u001b[1m3/3\u001b[0m \u001b[32m━━━━━━━━━━━━━━━━━━━━\u001b[0m\u001b[37m\u001b[0m \u001b[1m0s\u001b[0m 35ms/step - loss: 0.7373 - val_loss: 2.6313\n",
            "Epoch 10/50\n",
            "\u001b[1m3/3\u001b[0m \u001b[32m━━━━━━━━━━━━━━━━━━━━\u001b[0m\u001b[37m\u001b[0m \u001b[1m0s\u001b[0m 35ms/step - loss: 0.7041 - val_loss: 2.6198\n",
            "Epoch 11/50\n",
            "\u001b[1m3/3\u001b[0m \u001b[32m━━━━━━━━━━━━━━━━━━━━\u001b[0m\u001b[37m\u001b[0m \u001b[1m0s\u001b[0m 34ms/step - loss: 0.6902 - val_loss: 2.6064\n",
            "Epoch 12/50\n",
            "\u001b[1m3/3\u001b[0m \u001b[32m━━━━━━━━━━━━━━━━━━━━\u001b[0m\u001b[37m\u001b[0m \u001b[1m0s\u001b[0m 35ms/step - loss: 0.6915 - val_loss: 2.5947\n",
            "Epoch 13/50\n",
            "\u001b[1m3/3\u001b[0m \u001b[32m━━━━━━━━━━━━━━━━━━━━\u001b[0m\u001b[37m\u001b[0m \u001b[1m0s\u001b[0m 34ms/step - loss: 0.6508 - val_loss: 2.5846\n",
            "Epoch 14/50\n",
            "\u001b[1m3/3\u001b[0m \u001b[32m━━━━━━━━━━━━━━━━━━━━\u001b[0m\u001b[37m\u001b[0m \u001b[1m0s\u001b[0m 41ms/step - loss: 0.6463 - val_loss: 2.5762\n",
            "Epoch 15/50\n",
            "\u001b[1m3/3\u001b[0m \u001b[32m━━━━━━━━━━━━━━━━━━━━\u001b[0m\u001b[37m\u001b[0m \u001b[1m0s\u001b[0m 34ms/step - loss: 0.6565 - val_loss: 2.5651\n",
            "Epoch 16/50\n",
            "\u001b[1m3/3\u001b[0m \u001b[32m━━━━━━━━━━━━━━━━━━━━\u001b[0m\u001b[37m\u001b[0m \u001b[1m0s\u001b[0m 34ms/step - loss: 0.6314 - val_loss: 2.5526\n",
            "Epoch 17/50\n",
            "\u001b[1m3/3\u001b[0m \u001b[32m━━━━━━━━━━━━━━━━━━━━\u001b[0m\u001b[37m\u001b[0m \u001b[1m0s\u001b[0m 36ms/step - loss: 0.6024 - val_loss: 2.5363\n",
            "Epoch 18/50\n",
            "\u001b[1m3/3\u001b[0m \u001b[32m━━━━━━━━━━━━━━━━━━━━\u001b[0m\u001b[37m\u001b[0m \u001b[1m0s\u001b[0m 36ms/step - loss: 0.5988 - val_loss: 2.5174\n",
            "Epoch 19/50\n",
            "\u001b[1m3/3\u001b[0m \u001b[32m━━━━━━━━━━━━━━━━━━━━\u001b[0m\u001b[37m\u001b[0m \u001b[1m0s\u001b[0m 35ms/step - loss: 0.5989 - val_loss: 2.4983\n",
            "Epoch 20/50\n",
            "\u001b[1m3/3\u001b[0m \u001b[32m━━━━━━━━━━━━━━━━━━━━\u001b[0m\u001b[37m\u001b[0m \u001b[1m0s\u001b[0m 34ms/step - loss: 0.5933 - val_loss: 2.4794\n",
            "Epoch 21/50\n",
            "\u001b[1m3/3\u001b[0m \u001b[32m━━━━━━━━━━━━━━━━━━━━\u001b[0m\u001b[37m\u001b[0m \u001b[1m0s\u001b[0m 36ms/step - loss: 0.5709 - val_loss: 2.4610\n",
            "Epoch 22/50\n",
            "\u001b[1m3/3\u001b[0m \u001b[32m━━━━━━━━━━━━━━━━━━━━\u001b[0m\u001b[37m\u001b[0m \u001b[1m0s\u001b[0m 34ms/step - loss: 0.5521 - val_loss: 2.4419\n",
            "Epoch 23/50\n",
            "\u001b[1m3/3\u001b[0m \u001b[32m━━━━━━━━━━━━━━━━━━━━\u001b[0m\u001b[37m\u001b[0m \u001b[1m0s\u001b[0m 43ms/step - loss: 0.5496 - val_loss: 2.4196\n",
            "Epoch 24/50\n",
            "\u001b[1m3/3\u001b[0m \u001b[32m━━━━━━━━━━━━━━━━━━━━\u001b[0m\u001b[37m\u001b[0m \u001b[1m0s\u001b[0m 36ms/step - loss: 0.5395 - val_loss: 2.3974\n",
            "Epoch 25/50\n",
            "\u001b[1m3/3\u001b[0m \u001b[32m━━━━━━━━━━━━━━━━━━━━\u001b[0m\u001b[37m\u001b[0m \u001b[1m0s\u001b[0m 34ms/step - loss: 0.5225 - val_loss: 2.3750\n",
            "Epoch 26/50\n",
            "\u001b[1m3/3\u001b[0m \u001b[32m━━━━━━━━━━━━━━━━━━━━\u001b[0m\u001b[37m\u001b[0m \u001b[1m0s\u001b[0m 36ms/step - loss: 0.5360 - val_loss: 2.3472\n",
            "Epoch 27/50\n",
            "\u001b[1m3/3\u001b[0m \u001b[32m━━━━━━━━━━━━━━━━━━━━\u001b[0m\u001b[37m\u001b[0m \u001b[1m0s\u001b[0m 35ms/step - loss: 0.5271 - val_loss: 2.3232\n",
            "Epoch 28/50\n",
            "\u001b[1m3/3\u001b[0m \u001b[32m━━━━━━━━━━━━━━━━━━━━\u001b[0m\u001b[37m\u001b[0m \u001b[1m0s\u001b[0m 34ms/step - loss: 0.5196 - val_loss: 2.2988\n",
            "Epoch 29/50\n",
            "\u001b[1m3/3\u001b[0m \u001b[32m━━━━━━━━━━━━━━━━━━━━\u001b[0m\u001b[37m\u001b[0m \u001b[1m0s\u001b[0m 34ms/step - loss: 0.5041 - val_loss: 2.2749\n",
            "Epoch 30/50\n",
            "\u001b[1m3/3\u001b[0m \u001b[32m━━━━━━━━━━━━━━━━━━━━\u001b[0m\u001b[37m\u001b[0m \u001b[1m0s\u001b[0m 35ms/step - loss: 0.5026 - val_loss: 2.2479\n",
            "Epoch 31/50\n",
            "\u001b[1m3/3\u001b[0m \u001b[32m━━━━━━━━━━━━━━━━━━━━\u001b[0m\u001b[37m\u001b[0m \u001b[1m0s\u001b[0m 40ms/step - loss: 0.4977 - val_loss: 2.2287\n",
            "Epoch 32/50\n",
            "\u001b[1m3/3\u001b[0m \u001b[32m━━━━━━━━━━━━━━━━━━━━\u001b[0m\u001b[37m\u001b[0m \u001b[1m0s\u001b[0m 55ms/step - loss: 0.4800 - val_loss: 2.2105\n",
            "Epoch 33/50\n",
            "\u001b[1m3/3\u001b[0m \u001b[32m━━━━━━━━━━━━━━━━━━━━\u001b[0m\u001b[37m\u001b[0m \u001b[1m0s\u001b[0m 33ms/step - loss: 0.4781 - val_loss: 2.1995\n",
            "Epoch 34/50\n",
            "\u001b[1m3/3\u001b[0m \u001b[32m━━━━━━━━━━━━━━━━━━━━\u001b[0m\u001b[37m\u001b[0m \u001b[1m0s\u001b[0m 34ms/step - loss: 0.4687 - val_loss: 2.1876\n",
            "Epoch 35/50\n",
            "\u001b[1m3/3\u001b[0m \u001b[32m━━━━━━━━━━━━━━━━━━━━\u001b[0m\u001b[37m\u001b[0m \u001b[1m0s\u001b[0m 33ms/step - loss: 0.4547 - val_loss: 2.1736\n",
            "Epoch 36/50\n",
            "\u001b[1m3/3\u001b[0m \u001b[32m━━━━━━━━━━━━━━━━━━━━\u001b[0m\u001b[37m\u001b[0m \u001b[1m0s\u001b[0m 34ms/step - loss: 0.4516 - val_loss: 2.1628\n",
            "Epoch 37/50\n",
            "\u001b[1m3/3\u001b[0m \u001b[32m━━━━━━━━━━━━━━━━━━━━\u001b[0m\u001b[37m\u001b[0m \u001b[1m0s\u001b[0m 38ms/step - loss: 0.4380 - val_loss: 2.1555\n",
            "Epoch 38/50\n",
            "\u001b[1m3/3\u001b[0m \u001b[32m━━━━━━━━━━━━━━━━━━━━\u001b[0m\u001b[37m\u001b[0m \u001b[1m0s\u001b[0m 34ms/step - loss: 0.4394 - val_loss: 2.1517\n",
            "Epoch 39/50\n",
            "\u001b[1m3/3\u001b[0m \u001b[32m━━━━━━━━━━━━━━━━━━━━\u001b[0m\u001b[37m\u001b[0m \u001b[1m0s\u001b[0m 40ms/step - loss: 0.4216 - val_loss: 2.1488\n",
            "Epoch 40/50\n",
            "\u001b[1m3/3\u001b[0m \u001b[32m━━━━━━━━━━━━━━━━━━━━\u001b[0m\u001b[37m\u001b[0m \u001b[1m0s\u001b[0m 34ms/step - loss: 0.4248 - val_loss: 2.1456\n",
            "Epoch 41/50\n",
            "\u001b[1m3/3\u001b[0m \u001b[32m━━━━━━━━━━━━━━━━━━━━\u001b[0m\u001b[37m\u001b[0m \u001b[1m0s\u001b[0m 35ms/step - loss: 0.4237 - val_loss: 2.1396\n",
            "Epoch 42/50\n",
            "\u001b[1m3/3\u001b[0m \u001b[32m━━━━━━━━━━━━━━━━━━━━\u001b[0m\u001b[37m\u001b[0m \u001b[1m0s\u001b[0m 36ms/step - loss: 0.4094 - val_loss: 2.1335\n",
            "Epoch 43/50\n",
            "\u001b[1m3/3\u001b[0m \u001b[32m━━━━━━━━━━━━━━━━━━━━\u001b[0m\u001b[37m\u001b[0m \u001b[1m0s\u001b[0m 34ms/step - loss: 0.4008 - val_loss: 2.1254\n",
            "Epoch 44/50\n",
            "\u001b[1m3/3\u001b[0m \u001b[32m━━━━━━━━━━━━━━━━━━━━\u001b[0m\u001b[37m\u001b[0m \u001b[1m0s\u001b[0m 34ms/step - loss: 0.3966 - val_loss: 2.1203\n",
            "Epoch 45/50\n",
            "\u001b[1m3/3\u001b[0m \u001b[32m━━━━━━━━━━━━━━━━━━━━\u001b[0m\u001b[37m\u001b[0m \u001b[1m0s\u001b[0m 34ms/step - loss: 0.3878 - val_loss: 2.1145\n",
            "Epoch 46/50\n",
            "\u001b[1m3/3\u001b[0m \u001b[32m━━━━━━━━━━━━━━━━━━━━\u001b[0m\u001b[37m\u001b[0m \u001b[1m0s\u001b[0m 33ms/step - loss: 0.3916 - val_loss: 2.1077\n",
            "Epoch 47/50\n",
            "\u001b[1m3/3\u001b[0m \u001b[32m━━━━━━━━━━━━━━━━━━━━\u001b[0m\u001b[37m\u001b[0m \u001b[1m0s\u001b[0m 34ms/step - loss: 0.3813 - val_loss: 2.1045\n",
            "Epoch 48/50\n",
            "\u001b[1m3/3\u001b[0m \u001b[32m━━━━━━━━━━━━━━━━━━━━\u001b[0m\u001b[37m\u001b[0m \u001b[1m0s\u001b[0m 34ms/step - loss: 0.3805 - val_loss: 2.0973\n",
            "Epoch 49/50\n",
            "\u001b[1m3/3\u001b[0m \u001b[32m━━━━━━━━━━━━━━━━━━━━\u001b[0m\u001b[37m\u001b[0m \u001b[1m0s\u001b[0m 35ms/step - loss: 0.3727 - val_loss: 2.0892\n",
            "Epoch 50/50\n",
            "\u001b[1m3/3\u001b[0m \u001b[32m━━━━━━━━━━━━━━━━━━━━\u001b[0m\u001b[37m\u001b[0m \u001b[1m0s\u001b[0m 35ms/step - loss: 0.3656 - val_loss: 2.0801\n",
            "\u001b[1m10/10\u001b[0m \u001b[32m━━━━━━━━━━━━━━━━━━━━\u001b[0m\u001b[37m\u001b[0m \u001b[1m0s\u001b[0m 7ms/step \n",
            "Autoencoder AP: 0.9203526748444735\n"
          ]
        }
      ]
    },
    {
      "cell_type": "markdown",
      "source": [
        "## Conclusion of best ML algorithm for Anomaly Testing?\n",
        "\n",
        "My tuning results show:\n",
        "\n",
        "RandomForest (supervised)\n",
        "\n",
        "Best params: max_depth=20, min_samples_split=10, n_estimators=495\n",
        "\n",
        "Average Precision ≈ 0.9553\n",
        "\n",
        "One-Class SVM (unsupervised)\n",
        "\n",
        "Average Precision ≈ 0.9234\n",
        "\n",
        "Autoencoder (unsupervised)\n",
        "\n",
        "Average Precision ≈ 0.9191\n",
        "\n",
        "What this means\n",
        "RandomForest wins on AP\n",
        "\n",
        "With AP ≈ 0.955, your tuned RandomForest catches the highest proportion of true faults with very few false alarms.\n",
        "\n",
        "Since you have labeled data, a supervised model naturally leverages that signal.\n",
        "\n",
        "Unsupervised methods lag slightly\n",
        "\n",
        "One-Class SVM (0.923) and the autoencoder (0.919) both do a decent job without labels, but they fall ≈ 3–4 points in AP behind RandomForest.\n",
        "\n",
        "If you ever face unlabeled or streaming data, these remain good fallback detectors.\n",
        "\n",
        "Trade-offs to consider\n",
        "\n",
        "Supervised (RF): best detection performance, but requires labeled “fault” examples.\n",
        "\n",
        "Unsupervised (OC-SVM / Autoencoder): no labels needed, simpler deployment when faults are rare or evolving."
      ],
      "metadata": {
        "id": "kX1jq8y3c8JT"
      }
    },
    {
      "cell_type": "markdown",
      "source": [
        "## Rretrain Random Forest on Raw data data shape doesn't equal due to PCA and ScalarStandar"
      ],
      "metadata": {
        "id": "O4FeFhSbexe-"
      }
    },
    {
      "cell_type": "code",
      "source": [
        "# 4) Preprocess\n",
        "#   • Drop columns with >50% NaNs\n",
        "X = X.dropna(axis=1, thresh=len(X)*0.5)\n",
        "#   • Impute remaining NaNs with median\n",
        "imp = SimpleImputer(strategy='median')\n",
        "X_imp = pd.DataFrame(imp.fit_transform(X), columns=X.columns)\n",
        "\n",
        "# 5) Train/Test split\n",
        "X_tr, X_te, y_tr, y_te = train_test_split(\n",
        "    X_imp, y, test_size=0.2, stratify=y, random_state=42\n",
        ")\n",
        "\n",
        "# 6) Scale raw features\n",
        "scaler   = StandardScaler()\n",
        "X_tr_s   = scaler.fit_transform(X_tr)\n",
        "feature_names = X_tr.columns  # sensor columns\n",
        "\n",
        "# 7) Retrain RandomForest on scaled raw features\n",
        "rf_raw = RandomForestClassifier(\n",
        "    n_estimators=200,   # tuned value\n",
        "    max_depth=None,     # tuned value\n",
        "    random_state=42,\n",
        "    n_jobs=-1\n",
        ")\n",
        "rf_raw.fit(X_tr_s, y_tr)\n",
        "\n",
        "# 8) Extract importances & display top 20\n",
        "importances = pd.Series(\n",
        "    rf_raw.feature_importances_,\n",
        "    index=feature_names\n",
        ").sort_values(ascending=False)\n",
        "\n",
        "print(\"Top 20 Feature Importances:\")\n",
        "print(importances.head(20))"
      ],
      "metadata": {
        "colab": {
          "base_uri": "https://localhost:8080/"
        },
        "id": "6_J0TgL1e5IG",
        "outputId": "c1d78805-1015-4af4-9a76-54476d29981b"
      },
      "execution_count": 15,
      "outputs": [
        {
          "output_type": "stream",
          "name": "stdout",
          "text": [
            "Top 20 Feature Importances:\n",
            "153    0.009881\n",
            "477    0.009820\n",
            "426    0.009462\n",
            "341    0.009167\n",
            "539    0.008474\n",
            "562    0.008218\n",
            "288    0.008105\n",
            "267    0.007488\n",
            "59     0.007189\n",
            "64     0.006908\n",
            "65     0.006241\n",
            "16     0.005604\n",
            "152    0.005599\n",
            "205    0.005550\n",
            "62     0.005402\n",
            "120    0.005401\n",
            "123    0.005336\n",
            "425    0.005315\n",
            "348    0.005272\n",
            "132    0.005220\n",
            "dtype: float64\n"
          ]
        }
      ]
    },
    {
      "cell_type": "markdown",
      "source": [
        "## Save and Load Pipeline, A simple predict_fault(…) function for inference, Extracting and plotting feature importances, and Computing a Population Stability Index (PSI) to monitor drift"
      ],
      "metadata": {
        "id": "m6ciO38cdiqf"
      }
    },
    {
      "cell_type": "code",
      "source": [
        "import joblib\n",
        "import pandas as pd\n",
        "import numpy as np\n",
        "import matplotlib.pyplot as plt\n",
        "from sklearn.impute import SimpleImputer\n",
        "from sklearn.metrics import average_precision_score\n",
        "\n",
        "# --- 1. Persist your pipeline (and raw‐RF) ---\n",
        "joblib.dump(rf_raw,    'rf_raw_model.joblib')\n",
        "joblib.dump(scaler,    'scaler.joblib')\n",
        "joblib.dump(pca,       'pca.joblib')\n",
        "\n",
        "# --- 2. Load & Inference ---\n",
        "def load_pipeline(\n",
        "    model_path='rf_raw_model.joblib',\n",
        "    scaler_path='scaler.joblib',\n",
        "    pca_path='pca.joblib'\n",
        "):\n",
        "    model  = joblib.load(model_path)\n",
        "    scaler = joblib.load(scaler_path)\n",
        "    pca    = joblib.load(pca_path)\n",
        "    return model, scaler, pca\n",
        "\n",
        "model, scaler_loaded, pca_loaded = load_pipeline()\n",
        "\n",
        "def predict_fault(df_raw, threshold=0.5):\n",
        "    \"\"\"\n",
        "    df_raw: DataFrame of raw features (no label column).\n",
        "    Returns:\n",
        "      preds: 0/1 array (1=fault)\n",
        "      probs: float array of fault probabilities\n",
        "    \"\"\"\n",
        "    imp    = SimpleImputer(strategy='median')\n",
        "    df_imp = pd.DataFrame(imp.fit_transform(df_raw), columns=df_raw.columns)\n",
        "    X_s    = scaler_loaded.transform(df_imp)\n",
        "    X_p    = pca_loaded.transform(X_s)\n",
        "    probs  = model.predict_proba(X_p)[:,1]\n",
        "    return (probs >= threshold).astype(int), probs\n",
        "\n",
        "# --- 3. Feature Importances on RAW FEATURES ---\n",
        "feat_names  = X_tr.columns              # raw feature DataFrame from your train/test split\n",
        "importances = rf_raw.feature_importances_\n",
        "feat_imp    = pd.Series(importances, index=feat_names) \\\n",
        "                   .sort_values(ascending=False)\n",
        "\n",
        "print(\"Top 10 features by importance:\")\n",
        "print(feat_imp.head(10))\n",
        "\n",
        "plt.figure(figsize=(8,6))\n",
        "feat_imp.head(20).plot(kind='barh')\n",
        "plt.gca().invert_yaxis()\n",
        "plt.title('RandomForest Feature Importances (Raw Features)')\n",
        "plt.xlabel('Importance Score')\n",
        "plt.show()\n",
        "\n",
        "# --- 4. Drift Monitoring via PSI ---\n",
        "def compute_psi(expected_df, actual_df, buckets=10):\n",
        "    def psi(e_vals, a_vals):\n",
        "        edges = np.percentile(e_vals, np.linspace(0,100,buckets+1))\n",
        "        e_perc = np.histogram(e_vals, bins=edges)[0] / len(e_vals)\n",
        "        a_perc = np.histogram(a_vals, bins=edges)[0] / len(a_vals)\n",
        "        def _safe(e,a): return (e - a) * np.log(e/a) if e>0 and a>0 else 0\n",
        "        return sum(_safe(e,a) for e,a in zip(e_perc, a_perc))\n",
        "\n",
        "    psi_dict = {\n",
        "        col: psi(expected_df[col].values, actual_df[col].values)\n",
        "        for col in expected_df.columns\n",
        "    }\n",
        "    return pd.Series(psi_dict).sort_values(ascending=False)\n",
        "\n",
        "train_scaled_df = pd.DataFrame(X_tr_s, columns=X_tr.columns)\n",
        "test_scaled_df  = pd.DataFrame(X_te_s, columns=X_tr.columns)\n",
        "\n",
        "psi_series = compute_psi(train_scaled_df, test_scaled_df)\n",
        "print(\"\\nTop 10 features by PSI (drift):\")\n",
        "print(psi_series.head(10))\n"
      ],
      "metadata": {
        "colab": {
          "base_uri": "https://localhost:8080/",
          "height": 1000
        },
        "id": "zs6tNlP3dID2",
        "outputId": "c0dd374a-8872-4ffa-82db-f1c4f19bbeac"
      },
      "execution_count": 16,
      "outputs": [
        {
          "output_type": "stream",
          "name": "stdout",
          "text": [
            "Top 10 features by importance:\n",
            "153    0.009881\n",
            "477    0.009820\n",
            "426    0.009462\n",
            "341    0.009167\n",
            "539    0.008474\n",
            "562    0.008218\n",
            "288    0.008105\n",
            "267    0.007488\n",
            "59     0.007189\n",
            "64     0.006908\n",
            "dtype: float64\n"
          ]
        },
        {
          "output_type": "display_data",
          "data": {
            "text/plain": [
              "<Figure size 800x600 with 1 Axes>"
            ],
            "image/png": "[encoded data removed]"
          },
          "metadata": {}
        },
        {
          "output_type": "stream",
          "name": "stdout",
          "text": [
            "\n",
            "Top 10 features by PSI (drift):\n",
            "426    0.123899\n",
            "153    0.105449\n",
            "135    0.100081\n",
            "405    0.098996\n",
            "288    0.098960\n",
            "456    0.092823\n",
            "367    0.087035\n",
            "138    0.086732\n",
            "88     0.082129\n",
            "411    0.081996\n",
            "dtype: float64\n"
          ]
        }
      ]
    },
    {
      "cell_type": "markdown",
      "source": [
        "## Final Results based on Feature Index"
      ],
      "metadata": {
        "id": "nME0Z9DcgDl6"
      }
    },
    {
      "cell_type": "markdown",
      "source": [
        "| Feature Index |    PSI | Drift Level | What to Do                                                    |\n",
        "| ------------: | -----: | :---------: | :------------------------------------------------------------ |\n",
        "|           426 | 0.1239 |   Moderate  | Investigate sensor/process behind column 426.                 |\n",
        "|           153 | 0.1054 |   Moderate  | Look for operational changes or noise issues in this channel. |\n",
        "|           135 | 0.1001 |   Moderate  | Right on the “watch” threshold—monitor going forward.         |\n",
        "|           405 | 0.0990 |    Slight   | Just under moderate—keep an eye on it.                        |\n",
        "|           288 | 0.0989 |    Slight   | Same as above.                                                |\n",
        "|           456 | 0.0928 |    Slight   | Slight drift—probably OK but note any process tweaks.         |\n",
        "|           367 | 0.0870 |    Slight   | Slight drift.                                                 |\n",
        "|           138 | 0.0867 |    Slight   | Slight drift.                                                 |\n",
        "|            88 | 0.0821 |    Slight   | Slight drift.                                                 |\n",
        "|           411 | 0.0820 |    Slight   | Slight drift.                                                 |\n"
      ],
      "metadata": {
        "id": "xnA3OQWWgA-m"
      }
    },
    {
      "cell_type": "markdown",
      "source": [
        "## Key Takeaways\n",
        "\n",
        "Prioritize investigation on features 426, 153, and 135—they’ve crossed or are right at the 0.10 PSI threshold.\n",
        "\n",
        "Root-cause analysis: Map these column indices back to the actual sensors or process variables to see what’s changed (e.g., a new batch of material, sensor recalibration, maintenance activity).\n",
        "\n",
        "Short-term mitigation:\n",
        "\n",
        "If the drift is benign (e.g., normal seasonal/process shift), you might simply re-fit your scaler/PCA on an expanded dataset including the new data.\n",
        "\n",
        "If it’s due to a sensor fault or process anomaly, correct that at the source (repair sensor, adjust process).\n",
        "\n",
        "Long-term monitoring: Automate PSI checks per batch; trigger alerts or retraining when any feature’s PSI >0.10–0.15.\n",
        "\n",
        "Model retraining: If multiple key features continue to drift, schedule a model update with fresh labeled data to keep performance high.\n",
        "\n",
        "By focusing on these most-drifting features, you’ll ensure your RandomForest stays aligned with the evolving production process—and avoid unexpected drops in detection accuracy."
      ],
      "metadata": {
        "id": "MF7H3VgYgOWT"
      }
    }
  ]
}